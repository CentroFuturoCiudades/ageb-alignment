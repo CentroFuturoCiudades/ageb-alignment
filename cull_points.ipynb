{
 "cells": [
  {
   "metadata": {
    "ExecuteTime": {
     "end_time": "2025-06-11T06:21:43.102732Z",
     "start_time": "2025-06-11T06:21:43.094495Z"
    }
   },
   "cell_type": "code",
   "source": [
    "import math\n",
    "import os\n",
    "\n",
    "import numpy as np\n",
    "import pandas as pd\n",
    "\n",
    "from dotenv import load_dotenv\n",
    "from pathlib import Path\n",
    "from scipy.spatial import distance_matrix\n",
    "\n",
    "load_dotenv()"
   ],
   "outputs": [
    {
     "data": {
      "text/plain": [
       "True"
      ]
     },
     "execution_count": 1,
     "metadata": {},
     "output_type": "execute_result"
    }
   ],
   "execution_count": 1
  },
  {
   "metadata": {
    "ExecuteTime": {
     "end_time": "2025-06-11T06:24:37.470680Z",
     "start_time": "2025-06-11T06:24:37.467942Z"
    }
   },
   "cell_type": "code",
   "source": [
    "out_path = Path(os.environ[\"OUT_PATH\"])\n",
    "intermediate_path = Path(os.environ[\"INTERMEDIATE_PATH\"])"
   ],
   "outputs": [],
   "execution_count": 18
  },
  {
   "metadata": {
    "ExecuteTime": {
     "end_time": "2025-06-11T07:35:05.529593Z",
     "start_time": "2025-06-11T07:35:04.736751Z"
    }
   },
   "cell_type": "code",
   "source": [
    "for year in [1990, 2000]:\n",
    "    for zone in [\"09.1.01\", \"19.1.01\"]:\n",
    "        if year == 2000:\n",
    "            fpath = out_path / \"gcp\" / \"2000\" / f\"{zone}.points\"\n",
    "        elif year == 1990:\n",
    "            fpath = out_path / \"gcp\" / \"1990_target_2010\" / f\"{zone}.points\"\n",
    "        df = pd.read_csv(fpath)\n",
    "        arr = df[[\"sourceX\", \"sourceY\", \"mapX\", \"mapY\"]].to_numpy()\n",
    "\n",
    "        mat = distance_matrix(df[[\"sourceX\", \"sourceY\"]].to_numpy(), df[[\"sourceX\", \"sourceY\"]].to_numpy())\n",
    "        idx = np.tril_indices_from(mat)\n",
    "        mat[idx] = np.nan\n",
    "        i, j = np.nonzero(mat <= 100)\n",
    "\n",
    "        df_out = df[~df.index.isin(i)]\n",
    "\n",
    "        final_path = intermediate_path / \"gcp\" / str(year) / f\"{zone}.points\"\n",
    "        df_out.to_csv(final_path, index=False)\n",
    "\n",
    "        with open(final_path, \"r\") as f:\n",
    "            data = f.read()\n",
    "\n",
    "        with open(final_path, \"w\") as f:\n",
    "            f.write(\"#1\\n\" + data)"
   ],
   "outputs": [],
   "execution_count": 23
  }
 ],
 "metadata": {
  "kernelspec": {
   "display_name": ".venv",
   "language": "python",
   "name": "python3"
  },
  "language_info": {
   "codemirror_mode": {
    "name": "ipython",
    "version": 3
   },
   "file_extension": ".py",
   "mimetype": "text/x-python",
   "name": "python",
   "nbconvert_exporter": "python",
   "pygments_lexer": "ipython3",
   "version": "3.12.8"
  }
 },
 "nbformat": 4,
 "nbformat_minor": 2
}
